{
 "cells": [
  {
   "cell_type": "code",
   "execution_count": 1,
   "id": "7f4b0cd2",
   "metadata": {},
   "outputs": [
    {
     "name": "stdout",
     "output_type": "stream",
     "text": [
      "<built-in method keys of dict object at 0x000001A2FA0067C0>\n",
      "                   country       1700\n",
      "0              Afghanistan  34.565000\n",
      "1    Akrotiri and Dhekelia  34.616667\n",
      "2                  Albania  41.312000\n",
      "3                  Algeria  36.720000\n",
      "4           American Samoa -14.307000\n",
      "..                     ...        ...\n",
      "241            Yemen, Rep.  15.228000\n",
      "242             Yugoslavia        NaN\n",
      "243                 Zambia -12.942000\n",
      "244               Zimbabwe -17.876000\n",
      "245                  Åland  60.000000\n",
      "\n",
      "[246 rows x 2 columns]\n"
     ]
    }
   ],
   "source": [
    "# Import package\n",
    "import pandas as pd\n",
    "\n",
    "# Assign url of file: url\n",
    "\n",
    "url='http://s3.amazonaws.com/assets.datacamp.com/course/importing_data_into_r/latitude.xls'\n",
    "\n",
    "# Read in all sheets of Excel file: xls\n",
    "\n",
    "xls=pd.read_excel(url,sheet_name=None)\n",
    "# Print the sheetnames to the shell\n",
    "print(xls.keys)\n",
    "\n",
    "# Print the head of the first sheet (using its name, NOT its index)\n",
    "\n",
    "print(xls[\"1700\"])"
   ]
  },
  {
   "cell_type": "code",
   "execution_count": null,
   "id": "532cdfe6",
   "metadata": {},
   "outputs": [],
   "source": []
  }
 ],
 "metadata": {
  "kernelspec": {
   "display_name": "Python 3 (ipykernel)",
   "language": "python",
   "name": "python3"
  },
  "language_info": {
   "codemirror_mode": {
    "name": "ipython",
    "version": 3
   },
   "file_extension": ".py",
   "mimetype": "text/x-python",
   "name": "python",
   "nbconvert_exporter": "python",
   "pygments_lexer": "ipython3",
   "version": "3.9.7"
  }
 },
 "nbformat": 4,
 "nbformat_minor": 5
}
